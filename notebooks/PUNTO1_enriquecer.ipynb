{
 "cells": [
  {
   "cell_type": "markdown",
   "metadata": {},
   "source": [
    "# Prueba Claro\n",
    "## Frank Montenegro - frandak2@gmail.com"
   ]
  },
  {
   "cell_type": "markdown",
   "metadata": {},
   "source": [
    "### importamos las librerias que vamos a usar"
   ]
  },
  {
   "cell_type": "code",
   "execution_count": 1,
   "metadata": {},
   "outputs": [],
   "source": [
    "import pandas as pd\n",
    "import numpy as np\n",
    "import geopandas as gpd\n",
    "import matplotlib.pyplot as plt\n",
    "import seaborn as sns\n",
    "import plotly.express as px\n",
    "%matplotlib inline"
   ]
  },
  {
   "cell_type": "markdown",
   "metadata": {},
   "source": [
    "### redireccionamos la ruta del notebook"
   ]
  },
  {
   "cell_type": "code",
   "execution_count": 2,
   "metadata": {},
   "outputs": [],
   "source": [
    "import os\n",
    "g = os.getcwd()\n",
    "g\n",
    "path = 'D:\\\\repos\\\\GEO_claro'\n",
    "os.chdir(path)"
   ]
  },
  {
   "cell_type": "markdown",
   "metadata": {},
   "source": [
    "## Procedemos a leer los archivos shapefile\n",
    "de antemanos sabemos que el shape MGN es la capa de centros poblados del igac, en este shape tenemos imforacion sobre la forma, tamano y area de cada centro poblado del pais"
   ]
  },
  {
   "cell_type": "code",
   "execution_count": 4,
   "metadata": {},
   "outputs": [
    {
     "name": "stdout",
     "output_type": "stream",
     "text": [
      "<class 'geopandas.geodataframe.GeoDataFrame'>\n",
      "RangeIndex: 11570 entries, 0 to 11569\n",
      "Data columns (total 10 columns):\n",
      " #   Column      Non-Null Count  Dtype   \n",
      "---  ------      --------------  -----   \n",
      " 0   id          11570 non-null  float64 \n",
      " 1   gid         11570 non-null  float64 \n",
      " 2   dpto_ccdgo  11570 non-null  object  \n",
      " 3   mpio_ccdgo  11570 non-null  object  \n",
      " 4   cpob_ccdgo  11570 non-null  object  \n",
      " 5   setu_ccnct  11570 non-null  object  \n",
      " 6   shape_leng  11570 non-null  float64 \n",
      " 7   shape_area  11570 non-null  float64 \n",
      " 8   setu_ccdgo  11570 non-null  object  \n",
      " 9   geometry    11570 non-null  geometry\n",
      "dtypes: float64(4), geometry(1), object(5)\n",
      "memory usage: 904.0+ KB\n"
     ]
    }
   ],
   "source": [
    "MGN = gpd.read_file('data\\MGN.shp')#leemos el shapefile\n",
    "MGN.head(5) #observamos sus 5 primeras filas\n",
    "MGN.info()"
   ]
  },
  {
   "cell_type": "code",
   "execution_count": 4,
   "metadata": {},
   "outputs": [
    {
     "data": {
      "text/plain": [
       "<Geographic 2D CRS: EPSG:4326>\n",
       "Name: WGS 84\n",
       "Axis Info [ellipsoidal]:\n",
       "- Lat[north]: Geodetic latitude (degree)\n",
       "- Lon[east]: Geodetic longitude (degree)\n",
       "Area of Use:\n",
       "- name: World.\n",
       "- bounds: (-180.0, -90.0, 180.0, 90.0)\n",
       "Datum: World Geodetic System 1984 ensemble\n",
       "- Ellipsoid: WGS 84\n",
       "- Prime Meridian: Greenwich"
      ]
     },
     "execution_count": 4,
     "metadata": {},
     "output_type": "execute_result"
    }
   ],
   "source": [
    "MGN['mpio_ccdgo'] = MGN.mpio_ccdgo.astype(int) #transformamos el dato a tipo entero\n",
    "bgt = MGN[MGN['mpio_ccdgo'] == 11001] # seleccionamos solo la informacion de bogota\n",
    "bgt.crs"
   ]
  },
  {
   "cell_type": "code",
   "execution_count": 5,
   "metadata": {},
   "outputs": [
    {
     "data": {
      "text/html": [
       "<div>\n",
       "<style scoped>\n",
       "    .dataframe tbody tr th:only-of-type {\n",
       "        vertical-align: middle;\n",
       "    }\n",
       "\n",
       "    .dataframe tbody tr th {\n",
       "        vertical-align: top;\n",
       "    }\n",
       "\n",
       "    .dataframe thead th {\n",
       "        text-align: right;\n",
       "    }\n",
       "</style>\n",
       "<table border=\"1\" class=\"dataframe\">\n",
       "  <thead>\n",
       "    <tr style=\"text-align: right;\">\n",
       "      <th></th>\n",
       "      <th>ID</th>\n",
       "      <th>GID</th>\n",
       "      <th>DPTO_CCDGO</th>\n",
       "      <th>MPIO_CCDGO</th>\n",
       "      <th>CPOB_CCDGO</th>\n",
       "      <th>SETU_CCNCT</th>\n",
       "      <th>SHAPE_LENG</th>\n",
       "      <th>SHAPE_AREA</th>\n",
       "      <th>SETU_CCDGO</th>\n",
       "      <th>GEOMETRY</th>\n",
       "    </tr>\n",
       "  </thead>\n",
       "  <tbody>\n",
       "    <tr>\n",
       "      <th>276</th>\n",
       "      <td>908.0</td>\n",
       "      <td>1783.0</td>\n",
       "      <td>11</td>\n",
       "      <td>11001</td>\n",
       "      <td>11001000</td>\n",
       "      <td>110011000000004404</td>\n",
       "      <td>0.016345</td>\n",
       "      <td>0.000013</td>\n",
       "      <td>4404</td>\n",
       "      <td>POLYGON ((-74.12519 4.59772, -74.12522 4.59768...</td>\n",
       "    </tr>\n",
       "    <tr>\n",
       "      <th>285</th>\n",
       "      <td>5554.0</td>\n",
       "      <td>1578.0</td>\n",
       "      <td>11</td>\n",
       "      <td>11001</td>\n",
       "      <td>11001000</td>\n",
       "      <td>110011000000001319</td>\n",
       "      <td>0.024510</td>\n",
       "      <td>0.000028</td>\n",
       "      <td>1319</td>\n",
       "      <td>POLYGON ((-74.09170 4.54830, -74.09178 4.54803...</td>\n",
       "    </tr>\n",
       "    <tr>\n",
       "      <th>311</th>\n",
       "      <td>952.0</td>\n",
       "      <td>1842.0</td>\n",
       "      <td>11</td>\n",
       "      <td>11001</td>\n",
       "      <td>11001000</td>\n",
       "      <td>110011000000004549</td>\n",
       "      <td>0.023300</td>\n",
       "      <td>0.000032</td>\n",
       "      <td>4549</td>\n",
       "      <td>POLYGON ((-74.21336 4.61106, -74.21266 4.61178...</td>\n",
       "    </tr>\n",
       "    <tr>\n",
       "      <th>379</th>\n",
       "      <td>5503.0</td>\n",
       "      <td>1696.0</td>\n",
       "      <td>11</td>\n",
       "      <td>11001</td>\n",
       "      <td>11001000</td>\n",
       "      <td>110011000000002546</td>\n",
       "      <td>0.049631</td>\n",
       "      <td>0.000075</td>\n",
       "      <td>2546</td>\n",
       "      <td>POLYGON ((-74.12485 4.52050, -74.12477 4.52044...</td>\n",
       "    </tr>\n",
       "    <tr>\n",
       "      <th>438</th>\n",
       "      <td>5485.0</td>\n",
       "      <td>2024.0</td>\n",
       "      <td>11</td>\n",
       "      <td>11001</td>\n",
       "      <td>11001000</td>\n",
       "      <td>110011000000007405</td>\n",
       "      <td>0.014410</td>\n",
       "      <td>0.000012</td>\n",
       "      <td>7405</td>\n",
       "      <td>POLYGON ((-74.07096 4.66595, -74.07099 4.66591...</td>\n",
       "    </tr>\n",
       "    <tr>\n",
       "      <th>...</th>\n",
       "      <td>...</td>\n",
       "      <td>...</td>\n",
       "      <td>...</td>\n",
       "      <td>...</td>\n",
       "      <td>...</td>\n",
       "      <td>...</td>\n",
       "      <td>...</td>\n",
       "      <td>...</td>\n",
       "      <td>...</td>\n",
       "      <td>...</td>\n",
       "    </tr>\n",
       "    <tr>\n",
       "      <th>8271</th>\n",
       "      <td>5805.0</td>\n",
       "      <td>2178.0</td>\n",
       "      <td>11</td>\n",
       "      <td>11001</td>\n",
       "      <td>11001014</td>\n",
       "      <td>110012011040140001</td>\n",
       "      <td>0.014542</td>\n",
       "      <td>0.000011</td>\n",
       "      <td>0001</td>\n",
       "      <td>POLYGON ((-74.35929 3.89186, -74.35918 3.89184...</td>\n",
       "    </tr>\n",
       "    <tr>\n",
       "      <th>8586</th>\n",
       "      <td>6632.0</td>\n",
       "      <td>2174.0</td>\n",
       "      <td>11</td>\n",
       "      <td>11001</td>\n",
       "      <td>11001010</td>\n",
       "      <td>110012010010100001</td>\n",
       "      <td>0.007384</td>\n",
       "      <td>0.000003</td>\n",
       "      <td>0001</td>\n",
       "      <td>POLYGON ((-74.36375 3.98653, -74.36369 3.98645...</td>\n",
       "    </tr>\n",
       "    <tr>\n",
       "      <th>9194</th>\n",
       "      <td>8310.0</td>\n",
       "      <td>2170.0</td>\n",
       "      <td>11</td>\n",
       "      <td>11001</td>\n",
       "      <td>11001002</td>\n",
       "      <td>110012007030020001</td>\n",
       "      <td>0.008850</td>\n",
       "      <td>0.000004</td>\n",
       "      <td>0001</td>\n",
       "      <td>POLYGON ((-74.14754 4.17406, -74.14750 4.17402...</td>\n",
       "    </tr>\n",
       "    <tr>\n",
       "      <th>9269</th>\n",
       "      <td>8315.0</td>\n",
       "      <td>2177.0</td>\n",
       "      <td>11</td>\n",
       "      <td>11001</td>\n",
       "      <td>11001013</td>\n",
       "      <td>110012004040130001</td>\n",
       "      <td>0.008453</td>\n",
       "      <td>0.000002</td>\n",
       "      <td>0001</td>\n",
       "      <td>POLYGON ((-74.13812 4.41049, -74.13809 4.41049...</td>\n",
       "    </tr>\n",
       "    <tr>\n",
       "      <th>9281</th>\n",
       "      <td>8312.0</td>\n",
       "      <td>2172.0</td>\n",
       "      <td>11</td>\n",
       "      <td>11001</td>\n",
       "      <td>11001008</td>\n",
       "      <td>110012009050080001</td>\n",
       "      <td>0.019514</td>\n",
       "      <td>0.000015</td>\n",
       "      <td>0001</td>\n",
       "      <td>POLYGON ((-74.31352 4.02810, -74.31357 4.02810...</td>\n",
       "    </tr>\n",
       "  </tbody>\n",
       "</table>\n",
       "<p>641 rows × 10 columns</p>\n",
       "</div>"
      ],
      "text/plain": [
       "          ID     GID DPTO_CCDGO  MPIO_CCDGO CPOB_CCDGO          SETU_CCNCT  \\\n",
       "276    908.0  1783.0         11       11001   11001000  110011000000004404   \n",
       "285   5554.0  1578.0         11       11001   11001000  110011000000001319   \n",
       "311    952.0  1842.0         11       11001   11001000  110011000000004549   \n",
       "379   5503.0  1696.0         11       11001   11001000  110011000000002546   \n",
       "438   5485.0  2024.0         11       11001   11001000  110011000000007405   \n",
       "...      ...     ...        ...         ...        ...                 ...   \n",
       "8271  5805.0  2178.0         11       11001   11001014  110012011040140001   \n",
       "8586  6632.0  2174.0         11       11001   11001010  110012010010100001   \n",
       "9194  8310.0  2170.0         11       11001   11001002  110012007030020001   \n",
       "9269  8315.0  2177.0         11       11001   11001013  110012004040130001   \n",
       "9281  8312.0  2172.0         11       11001   11001008  110012009050080001   \n",
       "\n",
       "      SHAPE_LENG  SHAPE_AREA SETU_CCDGO  \\\n",
       "276     0.016345    0.000013       4404   \n",
       "285     0.024510    0.000028       1319   \n",
       "311     0.023300    0.000032       4549   \n",
       "379     0.049631    0.000075       2546   \n",
       "438     0.014410    0.000012       7405   \n",
       "...          ...         ...        ...   \n",
       "8271    0.014542    0.000011       0001   \n",
       "8586    0.007384    0.000003       0001   \n",
       "9194    0.008850    0.000004       0001   \n",
       "9269    0.008453    0.000002       0001   \n",
       "9281    0.019514    0.000015       0001   \n",
       "\n",
       "                                               GEOMETRY  \n",
       "276   POLYGON ((-74.12519 4.59772, -74.12522 4.59768...  \n",
       "285   POLYGON ((-74.09170 4.54830, -74.09178 4.54803...  \n",
       "311   POLYGON ((-74.21336 4.61106, -74.21266 4.61178...  \n",
       "379   POLYGON ((-74.12485 4.52050, -74.12477 4.52044...  \n",
       "438   POLYGON ((-74.07096 4.66595, -74.07099 4.66591...  \n",
       "...                                                 ...  \n",
       "8271  POLYGON ((-74.35929 3.89186, -74.35918 3.89184...  \n",
       "8586  POLYGON ((-74.36375 3.98653, -74.36369 3.98645...  \n",
       "9194  POLYGON ((-74.14754 4.17406, -74.14750 4.17402...  \n",
       "9269  POLYGON ((-74.13812 4.41049, -74.13809 4.41049...  \n",
       "9281  POLYGON ((-74.31352 4.02810, -74.31357 4.02810...  \n",
       "\n",
       "[641 rows x 10 columns]"
      ]
     },
     "execution_count": 5,
     "metadata": {},
     "output_type": "execute_result"
    }
   ],
   "source": [
    "bgt = bgt.rename(str.upper, axis='columns')\n",
    "bgt\n"
   ]
  },
  {
   "cell_type": "code",
   "execution_count": 6,
   "metadata": {},
   "outputs": [
    {
     "data": {
      "text/html": [
       "<div>\n",
       "<style scoped>\n",
       "    .dataframe tbody tr th:only-of-type {\n",
       "        vertical-align: middle;\n",
       "    }\n",
       "\n",
       "    .dataframe tbody tr th {\n",
       "        vertical-align: top;\n",
       "    }\n",
       "\n",
       "    .dataframe thead th {\n",
       "        text-align: right;\n",
       "    }\n",
       "</style>\n",
       "<table border=\"1\" class=\"dataframe\">\n",
       "  <thead>\n",
       "    <tr style=\"text-align: right;\">\n",
       "      <th></th>\n",
       "      <th>COD_DANE_A</th>\n",
       "      <th>DPTO_CCDGO</th>\n",
       "      <th>MPIO_CCDGO</th>\n",
       "      <th>MPIO_CDPMP</th>\n",
       "      <th>CLAS_CCDGO</th>\n",
       "      <th>SETR_CCDGO</th>\n",
       "      <th>SETR_CCNCT</th>\n",
       "      <th>SECR_CCDGO</th>\n",
       "      <th>SECR_CCNCT</th>\n",
       "      <th>ZU_CCDGO</th>\n",
       "      <th>...</th>\n",
       "      <th>TP51POSTGR</th>\n",
       "      <th>TP51_13_ED</th>\n",
       "      <th>TP51_99_ED</th>\n",
       "      <th>CD_LC_CM</th>\n",
       "      <th>NMB_LC_CM</th>\n",
       "      <th>TP_LC_CM</th>\n",
       "      <th>Shape_Leng</th>\n",
       "      <th>Shape_Area</th>\n",
       "      <th>COD_RDTM</th>\n",
       "      <th>geometry</th>\n",
       "    </tr>\n",
       "  </thead>\n",
       "  <tbody>\n",
       "    <tr>\n",
       "      <th>0</th>\n",
       "      <td>0500210000000000010101</td>\n",
       "      <td>05</td>\n",
       "      <td>002</td>\n",
       "      <td>05002</td>\n",
       "      <td>1</td>\n",
       "      <td>000</td>\n",
       "      <td>050021000</td>\n",
       "      <td>00</td>\n",
       "      <td>05002100000</td>\n",
       "      <td>000</td>\n",
       "      <td>...</td>\n",
       "      <td>0.0</td>\n",
       "      <td>10.0</td>\n",
       "      <td>1.0</td>\n",
       "      <td>None</td>\n",
       "      <td>None</td>\n",
       "      <td>None</td>\n",
       "      <td>0.002298</td>\n",
       "      <td>2.038760e-07</td>\n",
       "      <td>050021990000000000010101</td>\n",
       "      <td>POLYGON ((-75.42779 5.79423, -75.42780 5.79422...</td>\n",
       "    </tr>\n",
       "    <tr>\n",
       "      <th>1</th>\n",
       "      <td>0500210000000000010102</td>\n",
       "      <td>05</td>\n",
       "      <td>002</td>\n",
       "      <td>05002</td>\n",
       "      <td>1</td>\n",
       "      <td>000</td>\n",
       "      <td>050021000</td>\n",
       "      <td>00</td>\n",
       "      <td>05002100000</td>\n",
       "      <td>000</td>\n",
       "      <td>...</td>\n",
       "      <td>0.0</td>\n",
       "      <td>19.0</td>\n",
       "      <td>4.0</td>\n",
       "      <td>None</td>\n",
       "      <td>None</td>\n",
       "      <td>None</td>\n",
       "      <td>0.003402</td>\n",
       "      <td>5.600867e-07</td>\n",
       "      <td>050021990000000000010102</td>\n",
       "      <td>POLYGON ((-75.42719 5.79421, -75.42715 5.79415...</td>\n",
       "    </tr>\n",
       "    <tr>\n",
       "      <th>2</th>\n",
       "      <td>0500210000000000010103</td>\n",
       "      <td>05</td>\n",
       "      <td>002</td>\n",
       "      <td>05002</td>\n",
       "      <td>1</td>\n",
       "      <td>000</td>\n",
       "      <td>050021000</td>\n",
       "      <td>00</td>\n",
       "      <td>05002100000</td>\n",
       "      <td>000</td>\n",
       "      <td>...</td>\n",
       "      <td>0.0</td>\n",
       "      <td>6.0</td>\n",
       "      <td>1.0</td>\n",
       "      <td>None</td>\n",
       "      <td>None</td>\n",
       "      <td>None</td>\n",
       "      <td>0.002622</td>\n",
       "      <td>4.293780e-07</td>\n",
       "      <td>050021990000000000010103</td>\n",
       "      <td>POLYGON ((-75.42804 5.79294, -75.42807 5.79291...</td>\n",
       "    </tr>\n",
       "    <tr>\n",
       "      <th>3</th>\n",
       "      <td>0500210000000000010104</td>\n",
       "      <td>05</td>\n",
       "      <td>002</td>\n",
       "      <td>05002</td>\n",
       "      <td>1</td>\n",
       "      <td>000</td>\n",
       "      <td>050021000</td>\n",
       "      <td>00</td>\n",
       "      <td>05002100000</td>\n",
       "      <td>000</td>\n",
       "      <td>...</td>\n",
       "      <td>0.0</td>\n",
       "      <td>11.0</td>\n",
       "      <td>2.0</td>\n",
       "      <td>None</td>\n",
       "      <td>None</td>\n",
       "      <td>None</td>\n",
       "      <td>0.002673</td>\n",
       "      <td>4.493171e-07</td>\n",
       "      <td>050021990000000000010104</td>\n",
       "      <td>POLYGON ((-75.42853 5.79348, -75.42860 5.79342...</td>\n",
       "    </tr>\n",
       "    <tr>\n",
       "      <th>4</th>\n",
       "      <td>0500210000000000010105</td>\n",
       "      <td>05</td>\n",
       "      <td>002</td>\n",
       "      <td>05002</td>\n",
       "      <td>1</td>\n",
       "      <td>000</td>\n",
       "      <td>050021000</td>\n",
       "      <td>00</td>\n",
       "      <td>05002100000</td>\n",
       "      <td>000</td>\n",
       "      <td>...</td>\n",
       "      <td>0.0</td>\n",
       "      <td>0.0</td>\n",
       "      <td>0.0</td>\n",
       "      <td>None</td>\n",
       "      <td>None</td>\n",
       "      <td>None</td>\n",
       "      <td>0.001338</td>\n",
       "      <td>8.776894e-08</td>\n",
       "      <td>050021990000000000010105</td>\n",
       "      <td>POLYGON ((-75.42910 5.79393, -75.42910 5.79393...</td>\n",
       "    </tr>\n",
       "  </tbody>\n",
       "</table>\n",
       "<p>5 rows × 110 columns</p>\n",
       "</div>"
      ],
      "text/plain": [
       "               COD_DANE_A DPTO_CCDGO MPIO_CCDGO MPIO_CDPMP CLAS_CCDGO  \\\n",
       "0  0500210000000000010101         05        002      05002          1   \n",
       "1  0500210000000000010102         05        002      05002          1   \n",
       "2  0500210000000000010103         05        002      05002          1   \n",
       "3  0500210000000000010104         05        002      05002          1   \n",
       "4  0500210000000000010105         05        002      05002          1   \n",
       "\n",
       "  SETR_CCDGO SETR_CCNCT SECR_CCDGO   SECR_CCNCT ZU_CCDGO  ... TP51POSTGR  \\\n",
       "0        000  050021000         00  05002100000      000  ...        0.0   \n",
       "1        000  050021000         00  05002100000      000  ...        0.0   \n",
       "2        000  050021000         00  05002100000      000  ...        0.0   \n",
       "3        000  050021000         00  05002100000      000  ...        0.0   \n",
       "4        000  050021000         00  05002100000      000  ...        0.0   \n",
       "\n",
       "  TP51_13_ED TP51_99_ED CD_LC_CM NMB_LC_CM TP_LC_CM Shape_Leng    Shape_Area  \\\n",
       "0       10.0        1.0     None      None     None   0.002298  2.038760e-07   \n",
       "1       19.0        4.0     None      None     None   0.003402  5.600867e-07   \n",
       "2        6.0        1.0     None      None     None   0.002622  4.293780e-07   \n",
       "3       11.0        2.0     None      None     None   0.002673  4.493171e-07   \n",
       "4        0.0        0.0     None      None     None   0.001338  8.776894e-08   \n",
       "\n",
       "                   COD_RDTM                                           geometry  \n",
       "0  050021990000000000010101  POLYGON ((-75.42779 5.79423, -75.42780 5.79422...  \n",
       "1  050021990000000000010102  POLYGON ((-75.42719 5.79421, -75.42715 5.79415...  \n",
       "2  050021990000000000010103  POLYGON ((-75.42804 5.79294, -75.42807 5.79291...  \n",
       "3  050021990000000000010104  POLYGON ((-75.42853 5.79348, -75.42860 5.79342...  \n",
       "4  050021990000000000010105  POLYGON ((-75.42910 5.79393, -75.42910 5.79393...  \n",
       "\n",
       "[5 rows x 110 columns]"
      ]
     },
     "execution_count": 6,
     "metadata": {},
     "output_type": "execute_result"
    }
   ],
   "source": [
    "MGN_SURBN = gpd.read_file('data\\ShapefileMGN_ANM_MANZANA\\MGN_ANM_MANZANA.shp')#leemos el shapefile\n",
    "MGN_SURBN.head(5) #observamos sus 5 primeras filas\n"
   ]
  },
  {
   "cell_type": "code",
   "execution_count": 7,
   "metadata": {},
   "outputs": [
    {
     "name": "stdout",
     "output_type": "stream",
     "text": [
      "<class 'geopandas.geodataframe.GeoDataFrame'>\n",
      "RangeIndex: 504996 entries, 0 to 504995\n",
      "Columns: 110 entries, COD_DANE_A to geometry\n",
      "dtypes: float64(86), geometry(1), int64(1), object(22)\n",
      "memory usage: 423.8+ MB\n"
     ]
    }
   ],
   "source": [
    "MGN_SURBN.info()"
   ]
  },
  {
   "cell_type": "code",
   "execution_count": 8,
   "metadata": {},
   "outputs": [
    {
     "data": {
      "text/plain": [
       "(43408, 110)"
      ]
     },
     "execution_count": 8,
     "metadata": {},
     "output_type": "execute_result"
    }
   ],
   "source": [
    "MGN_SURBN['MPIO_CDPMP'] = MGN_SURBN.MPIO_CDPMP.astype(int) #transformamos el dato a tipo entero\n",
    "MGN_SURBN['MPIO_CDPMP']\n",
    "bgt_urbn = MGN_SURBN[MGN_SURBN['MPIO_CDPMP'] == 11001] # seleccionamos solo la informacion de bogota\n",
    "bgt_urbn.shape"
   ]
  },
  {
   "cell_type": "markdown",
   "metadata": {},
   "source": [
    "## enriquesemos nuestro infomacion con CNPV2018\n",
    "### No es necesario hacer una operacion espacial, lo que haremos sera hacer un merge por el codigo del sector urbano"
   ]
  },
  {
   "cell_type": "code",
   "execution_count": 9,
   "metadata": {},
   "outputs": [
    {
     "data": {
      "text/plain": [
       "(44101, 119)"
      ]
     },
     "execution_count": 9,
     "metadata": {},
     "output_type": "execute_result"
    }
   ],
   "source": [
    "merge_bgt = bgt.merge(bgt_urbn, how='inner', on = 'SETU_CCDGO')# unimos la inforacion de las manzanas con las del sector urbano\n",
    "merge_bgt.shape"
   ]
  },
  {
   "cell_type": "code",
   "execution_count": 10,
   "metadata": {},
   "outputs": [
    {
     "data": {
      "text/plain": [
       "Index(['ID', 'GID', 'DPTO_CCDGO_x', 'MPIO_CCDGO_x', 'CPOB_CCDGO',\n",
       "       'SETU_CCNCT_x', 'SHAPE_LENG', 'SHAPE_AREA', 'SETU_CCDGO', 'GEOMETRY',\n",
       "       ...\n",
       "       'TP51POSTGR', 'TP51_13_ED', 'TP51_99_ED', 'CD_LC_CM', 'NMB_LC_CM',\n",
       "       'TP_LC_CM', 'Shape_Leng', 'Shape_Area', 'COD_RDTM', 'geometry'],\n",
       "      dtype='object', length=119)"
      ]
     },
     "execution_count": 10,
     "metadata": {},
     "output_type": "execute_result"
    }
   ],
   "source": [
    "merge_bgt.columns"
   ]
  },
  {
   "cell_type": "code",
   "execution_count": 11,
   "metadata": {},
   "outputs": [],
   "source": [
    "cols = ['TVIVIENDA','TP14_1_TIP','TP14_2_TIP','TP14_3_TIP','TP19_EE_E1','TP19_EE_E2','TP19_EE_E3','TP19_EE_E4','TP19_EE_E5','TP19_EE_E6','TP19_EE_E9','TP19_INTE1','TP19_INTE2',\n",
    "'TP19_INTE9','TP32_1_SEX','TP32_2_SEX','TP34_1_EDA','TP34_2_EDA','TP34_3_EDA','TP34_4_EDA','TP34_5_EDA','TP34_6_EDA','TP34_7_EDA','TP34_8_EDA','TP34_9_EDA','NMB_LC_CM'] #examinamos las columnas que nos servirian para nutrir nuestra informacion espacial.\n",
    "#SECTOR URBANO\n",
    "# ['STVIVIENDA','STP14_1_TI','STP14_2_TI','STP14_3_TI','STP19_EE_1','STP19_EE_2','STP19_EE_3','STP19_EE_4','STP19_EE_5','STP19_EE_6','STP19_EE_9','STP19_INT1','STP19_INT2',\n",
    "# 'STP19_INT9','STP32_1_SE','STP32_2_SE','STP34_1_ED','STP34_2_ED','STP34_3_ED','STP34_4_ED','STP34_5_ED','STP34_6_ED','STP34_7_ED','STP34_8_ED','STP34_9_ED','STP51_PRIM',\n",
    "# 'STP51_SECU','STP51_SUPE','STP51_POST','STP51_13_E','STP51_99_E']\n",
    "\n",
    "BGT_MGN = merge_bgt.groupby(['SETU_CCDGO'])[cols].sum()#lo agrupamos por el codigo de SECTOR URBANO y sumamos las columnas para tner el total por sector\n"
   ]
  },
  {
   "cell_type": "code",
   "execution_count": 12,
   "metadata": {},
   "outputs": [
    {
     "name": "stdout",
     "output_type": "stream",
     "text": [
      "(632, 26)\n"
     ]
    },
    {
     "data": {
      "text/html": [
       "<div>\n",
       "<style scoped>\n",
       "    .dataframe tbody tr th:only-of-type {\n",
       "        vertical-align: middle;\n",
       "    }\n",
       "\n",
       "    .dataframe tbody tr th {\n",
       "        vertical-align: top;\n",
       "    }\n",
       "\n",
       "    .dataframe thead th {\n",
       "        text-align: right;\n",
       "    }\n",
       "</style>\n",
       "<table border=\"1\" class=\"dataframe\">\n",
       "  <thead>\n",
       "    <tr style=\"text-align: right;\">\n",
       "      <th></th>\n",
       "      <th>SETU_CCDGO</th>\n",
       "      <th>TVIVIENDA</th>\n",
       "      <th>TP14_1_TIP</th>\n",
       "      <th>TP14_2_TIP</th>\n",
       "      <th>TP14_3_TIP</th>\n",
       "      <th>TP19_EE_E1</th>\n",
       "      <th>TP19_EE_E2</th>\n",
       "      <th>TP19_EE_E3</th>\n",
       "      <th>TP19_EE_E4</th>\n",
       "      <th>TP19_EE_E5</th>\n",
       "      <th>...</th>\n",
       "      <th>TP32_2_SEX</th>\n",
       "      <th>TP34_1_EDA</th>\n",
       "      <th>TP34_2_EDA</th>\n",
       "      <th>TP34_3_EDA</th>\n",
       "      <th>TP34_4_EDA</th>\n",
       "      <th>TP34_5_EDA</th>\n",
       "      <th>TP34_6_EDA</th>\n",
       "      <th>TP34_7_EDA</th>\n",
       "      <th>TP34_8_EDA</th>\n",
       "      <th>TP34_9_EDA</th>\n",
       "    </tr>\n",
       "  </thead>\n",
       "  <tbody>\n",
       "    <tr>\n",
       "      <th>0</th>\n",
       "      <td>0001</td>\n",
       "      <td>8640.0</td>\n",
       "      <td>6390.0</td>\n",
       "      <td>1860.0</td>\n",
       "      <td>380.0</td>\n",
       "      <td>2130.0</td>\n",
       "      <td>4840.0</td>\n",
       "      <td>520.0</td>\n",
       "      <td>100.0</td>\n",
       "      <td>10.0</td>\n",
       "      <td>...</td>\n",
       "      <td>12290.0</td>\n",
       "      <td>3560.0</td>\n",
       "      <td>4150.0</td>\n",
       "      <td>4850.0</td>\n",
       "      <td>3810.0</td>\n",
       "      <td>3260.0</td>\n",
       "      <td>2840.0</td>\n",
       "      <td>1230.0</td>\n",
       "      <td>710.0</td>\n",
       "      <td>290.0</td>\n",
       "    </tr>\n",
       "    <tr>\n",
       "      <th>1</th>\n",
       "      <td>1101</td>\n",
       "      <td>1657.0</td>\n",
       "      <td>295.0</td>\n",
       "      <td>1278.0</td>\n",
       "      <td>83.0</td>\n",
       "      <td>21.0</td>\n",
       "      <td>1334.0</td>\n",
       "      <td>102.0</td>\n",
       "      <td>2.0</td>\n",
       "      <td>1.0</td>\n",
       "      <td>...</td>\n",
       "      <td>2374.0</td>\n",
       "      <td>576.0</td>\n",
       "      <td>673.0</td>\n",
       "      <td>950.0</td>\n",
       "      <td>775.0</td>\n",
       "      <td>621.0</td>\n",
       "      <td>542.0</td>\n",
       "      <td>290.0</td>\n",
       "      <td>123.0</td>\n",
       "      <td>50.0</td>\n",
       "    </tr>\n",
       "    <tr>\n",
       "      <th>2</th>\n",
       "      <td>1102</td>\n",
       "      <td>2849.0</td>\n",
       "      <td>1077.0</td>\n",
       "      <td>1697.0</td>\n",
       "      <td>74.0</td>\n",
       "      <td>9.0</td>\n",
       "      <td>2453.0</td>\n",
       "      <td>60.0</td>\n",
       "      <td>2.0</td>\n",
       "      <td>1.0</td>\n",
       "      <td>...</td>\n",
       "      <td>4578.0</td>\n",
       "      <td>1150.0</td>\n",
       "      <td>1451.0</td>\n",
       "      <td>1652.0</td>\n",
       "      <td>1562.0</td>\n",
       "      <td>1119.0</td>\n",
       "      <td>975.0</td>\n",
       "      <td>573.0</td>\n",
       "      <td>263.0</td>\n",
       "      <td>114.0</td>\n",
       "    </tr>\n",
       "    <tr>\n",
       "      <th>3</th>\n",
       "      <td>1103</td>\n",
       "      <td>2138.0</td>\n",
       "      <td>1113.0</td>\n",
       "      <td>964.0</td>\n",
       "      <td>58.0</td>\n",
       "      <td>31.0</td>\n",
       "      <td>1939.0</td>\n",
       "      <td>6.0</td>\n",
       "      <td>4.0</td>\n",
       "      <td>0.0</td>\n",
       "      <td>...</td>\n",
       "      <td>3695.0</td>\n",
       "      <td>843.0</td>\n",
       "      <td>1117.0</td>\n",
       "      <td>1305.0</td>\n",
       "      <td>1038.0</td>\n",
       "      <td>917.0</td>\n",
       "      <td>919.0</td>\n",
       "      <td>519.0</td>\n",
       "      <td>242.0</td>\n",
       "      <td>102.0</td>\n",
       "    </tr>\n",
       "    <tr>\n",
       "      <th>4</th>\n",
       "      <td>1104</td>\n",
       "      <td>1345.0</td>\n",
       "      <td>1066.0</td>\n",
       "      <td>249.0</td>\n",
       "      <td>26.0</td>\n",
       "      <td>1152.0</td>\n",
       "      <td>77.0</td>\n",
       "      <td>2.0</td>\n",
       "      <td>2.0</td>\n",
       "      <td>0.0</td>\n",
       "      <td>...</td>\n",
       "      <td>2319.0</td>\n",
       "      <td>736.0</td>\n",
       "      <td>840.0</td>\n",
       "      <td>863.0</td>\n",
       "      <td>647.0</td>\n",
       "      <td>501.0</td>\n",
       "      <td>474.0</td>\n",
       "      <td>261.0</td>\n",
       "      <td>134.0</td>\n",
       "      <td>38.0</td>\n",
       "    </tr>\n",
       "  </tbody>\n",
       "</table>\n",
       "<p>5 rows × 26 columns</p>\n",
       "</div>"
      ],
      "text/plain": [
       "  SETU_CCDGO  TVIVIENDA  TP14_1_TIP  TP14_2_TIP  TP14_3_TIP  TP19_EE_E1  \\\n",
       "0       0001     8640.0      6390.0      1860.0       380.0      2130.0   \n",
       "1       1101     1657.0       295.0      1278.0        83.0        21.0   \n",
       "2       1102     2849.0      1077.0      1697.0        74.0         9.0   \n",
       "3       1103     2138.0      1113.0       964.0        58.0        31.0   \n",
       "4       1104     1345.0      1066.0       249.0        26.0      1152.0   \n",
       "\n",
       "   TP19_EE_E2  TP19_EE_E3  TP19_EE_E4  TP19_EE_E5  ...  TP32_2_SEX  \\\n",
       "0      4840.0       520.0       100.0        10.0  ...     12290.0   \n",
       "1      1334.0       102.0         2.0         1.0  ...      2374.0   \n",
       "2      2453.0        60.0         2.0         1.0  ...      4578.0   \n",
       "3      1939.0         6.0         4.0         0.0  ...      3695.0   \n",
       "4        77.0         2.0         2.0         0.0  ...      2319.0   \n",
       "\n",
       "   TP34_1_EDA  TP34_2_EDA  TP34_3_EDA  TP34_4_EDA  TP34_5_EDA  TP34_6_EDA  \\\n",
       "0      3560.0      4150.0      4850.0      3810.0      3260.0      2840.0   \n",
       "1       576.0       673.0       950.0       775.0       621.0       542.0   \n",
       "2      1150.0      1451.0      1652.0      1562.0      1119.0       975.0   \n",
       "3       843.0      1117.0      1305.0      1038.0       917.0       919.0   \n",
       "4       736.0       840.0       863.0       647.0       501.0       474.0   \n",
       "\n",
       "   TP34_7_EDA  TP34_8_EDA  TP34_9_EDA  \n",
       "0      1230.0       710.0       290.0  \n",
       "1       290.0       123.0        50.0  \n",
       "2       573.0       263.0       114.0  \n",
       "3       519.0       242.0       102.0  \n",
       "4       261.0       134.0        38.0  \n",
       "\n",
       "[5 rows x 26 columns]"
      ]
     },
     "execution_count": 12,
     "metadata": {},
     "output_type": "execute_result"
    }
   ],
   "source": [
    "BGT_MGN.reset_index(inplace=True)#reseteamos el indice\n",
    "print(BGT_MGN.shape)#confirmamos el tamanio\n",
    "BGT_MGN.head(5)#exploramos al info\n"
   ]
  },
  {
   "cell_type": "code",
   "execution_count": 13,
   "metadata": {},
   "outputs": [],
   "source": [
    "BGT_MGN = BGT_MGN.iloc[1:,]#eliminamos la fila 0 ya que trae el mismo codigo pra las manzanas\n",
    "# BGT_MGN['SETU_CCDGO'] = BGT_MGN.SETU_CCDGO.astype(int) #transformamos el dato a tipo entero\n"
   ]
  },
  {
   "cell_type": "code",
   "execution_count": 14,
   "metadata": {},
   "outputs": [
    {
     "name": "stderr",
     "output_type": "stream",
     "text": [
      "C:\\Users\\FRANKH~1\\AppData\\Local\\Temp/ipykernel_6568/1075598366.py:2: FutureWarning: Assigning CRS to a GeoDataFrame without a geometry column is now deprecated and will not be supported in the future.\n",
      "  GBGT = gpd.GeoDataFrame(BGT,crs=\"EPSG:4326\")\n"
     ]
    },
    {
     "data": {
      "text/plain": [
       "(631, 31)"
      ]
     },
     "execution_count": 14,
     "metadata": {},
     "output_type": "execute_result"
    }
   ],
   "source": [
    "BGT = BGT_MGN.merge(bgt.drop(columns=['ID','GID','SHAPE_LENG','SHAPE_AREA']), how='inner', on = 'SETU_CCDGO')#le agregamos la componente espacial a nuestro informacion\n",
    "GBGT = gpd.GeoDataFrame(BGT,crs=\"EPSG:4326\")\n",
    "GBGT.shape"
   ]
  },
  {
   "cell_type": "code",
   "execution_count": 65,
   "metadata": {},
   "outputs": [],
   "source": [
    "GBGT = GBGT.rename(columns={'GEOMETRY':'geometry'})\n",
    "GBGT.columns\n",
    "GBGT.to_file('data\\MGN_data.shp')#exporta el geopanda como shp"
   ]
  },
  {
   "cell_type": "markdown",
   "metadata": {},
   "source": [
    "## Como solo tenemos informacion a nivel del sector urbano, le agregaremos una columna de localidad\n",
    "### para eso necesitamos hacer una interceccion de nustras datos para poder crear un nuevo archivo con las localidades y demas informacion. pero por problemas de topologia donde u sector comercia puede pertenecer a mas de 1 o 2 localidades trabajaremos con el dato que trae cada manzana "
   ]
  },
  {
   "cell_type": "code",
   "execution_count": 47,
   "metadata": {},
   "outputs": [],
   "source": [
    "cols = ['TVIVIENDA','TP14_1_TIP','TP14_2_TIP','TP14_3_TIP','TP19_EE_E1','TP19_EE_E2','TP19_EE_E3','TP19_EE_E4','TP19_EE_E5','TP19_EE_E6','TP19_EE_E9','TP19_INTE1','TP19_INTE2',\n",
    "'TP19_INTE9','TP32_1_SEX','TP32_2_SEX','TP34_1_EDA','TP34_2_EDA','TP34_3_EDA','TP34_4_EDA','TP34_5_EDA','TP34_6_EDA','TP34_7_EDA','TP34_8_EDA','TP34_9_EDA']\n",
    "G_local = bgt_urbn.groupby('NMB_LC_CM')[cols].agg({np.min,np.mean,np.median,np.max,np.sum}).unstack().reset_index()\n"
   ]
  },
  {
   "cell_type": "code",
   "execution_count": 48,
   "metadata": {},
   "outputs": [],
   "source": [
    "G_local[\"col_stats\"] = G_local.level_0 +\"_\"+ G_local.level_1\n",
    "G_local = G_local.pivot_table(values=0, index='NMB_LC_CM',columns='col_stats')\n",
    "G_local.reset_index(inplace=True)\n",
    "\n"
   ]
  },
  {
   "cell_type": "markdown",
   "metadata": {},
   "source": [
    "### ya tenemos una tabla con la informacion por localidad, le asignaremos la componente espacial"
   ]
  },
  {
   "cell_type": "code",
   "execution_count": 49,
   "metadata": {},
   "outputs": [],
   "source": [
    "localidades = gpd.read_file('data\\localidades\\localidades.shp')# leemos el shape de comunas\n",
    "localidades = localidades.to_crs(4326) #cambio de crs\n",
    "localidades = localidades[['NOMBRE', 'CODIGO_LOC', 'geometry']] #columnas relevante\n"
   ]
  },
  {
   "cell_type": "markdown",
   "metadata": {},
   "source": [
    "### union de los dos dataframes"
   ]
  },
  {
   "cell_type": "code",
   "execution_count": 64,
   "metadata": {},
   "outputs": [
    {
     "name": "stderr",
     "output_type": "stream",
     "text": [
      "C:\\Users\\FRANKH~1\\AppData\\Local\\Temp/ipykernel_6568/8984107.py:4: UserWarning: Column names longer than 10 characters will be truncated when saved to ESRI Shapefile.\n",
      "  localidades.to_file('data\\localidades\\localidades_data.shp')\n"
     ]
    }
   ],
   "source": [
    "G_local = G_local.rename(columns={'NMB_LC_CM':'NOMBRE'}) #cambio de nombre\n",
    "merge_local = G_local.merge(localidades, how='inner', on = 'NOMBRE')#merge\n",
    "localidades = gpd.GeoDataFrame(merge_local,crs=\"EPSG:4326\")#creacion de geopanda\n",
    "# localidades.to_file('data\\localidades\\localidades_data.shp')#exporta el geopanda como shp"
   ]
  },
  {
   "cell_type": "code",
   "execution_count": 5,
   "metadata": {},
   "outputs": [
    {
     "name": "stdout",
     "output_type": "stream",
     "text": [
      "<class 'geopandas.geodataframe.GeoDataFrame'>\n",
      "RangeIndex: 19 entries, 0 to 18\n",
      "Columns: 128 entries, NOMBRE to geometry\n",
      "dtypes: float64(125), geometry(1), object(2)\n",
      "memory usage: 19.1+ KB\n"
     ]
    }
   ],
   "source": [
    "loc = gpd.read_file('data\\localidades\\localidades_data.shp')\n",
    "loc.info()"
   ]
  },
  {
   "cell_type": "code",
   "execution_count": 7,
   "metadata": {},
   "outputs": [
    {
     "data": {
      "text/plain": [
       "Index(['NOMBRE', 'TP14_1_TIP', 'TP14_1_T_1', 'TP14_1_T_2', 'TP14_1_T_3',\n",
       "       'TP14_1_T_4', 'TP14_2_TIP', 'TP14_2_T_1', 'TP14_2_T_2', 'TP14_2_T_3',\n",
       "       ...\n",
       "       'TP34_9_E_2', 'TP34_9_E_3', 'TP34_9_E_4', 'TVIVIENDA_', 'TVIVIEND_1',\n",
       "       'TVIVIEND_2', 'TVIVIEND_3', 'TVIVIEND_4', 'CODIGO_LOC', 'geometry'],\n",
       "      dtype='object', length=128)"
      ]
     },
     "execution_count": 7,
     "metadata": {},
     "output_type": "execute_result"
    }
   ],
   "source": [
    "loc.columns"
   ]
  },
  {
   "cell_type": "code",
   "execution_count": null,
   "metadata": {},
   "outputs": [],
   "source": []
  }
 ],
 "metadata": {
  "interpreter": {
   "hash": "2a2c85e96d8b745be15ccef6d7c1cda10502afc361cd63b2d0594212eb03dc2b"
  },
  "kernelspec": {
   "display_name": "Python 3.8.11 64-bit ('geods': conda)",
   "name": "python3"
  },
  "language_info": {
   "codemirror_mode": {
    "name": "ipython",
    "version": 3
   },
   "file_extension": ".py",
   "mimetype": "text/x-python",
   "name": "python",
   "nbconvert_exporter": "python",
   "pygments_lexer": "ipython3",
   "version": "3.8.11"
  },
  "orig_nbformat": 4
 },
 "nbformat": 4,
 "nbformat_minor": 2
}
